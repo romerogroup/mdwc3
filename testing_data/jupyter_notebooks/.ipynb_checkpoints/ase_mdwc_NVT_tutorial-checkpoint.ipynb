{
 "cells": [
  {
   "cell_type": "code",
   "execution_count": 1,
   "metadata": {
    "collapsed": false
   },
   "outputs": [],
   "source": [
    "import numpy as np\n",
    "#import mdwc md_suit \n",
    "import mdwc.MD_suite.MD_suite as md_ft\n",
    "#import mdwc md parameters reader\n",
    "import mdwc.software_tools.abinit_controller as ac\n",
    "#import ase calculators for energies and forces\n",
    "import ase\n",
    "from ase.calculators.emt import EMT\n",
    "from ase.lattice.cubic import FaceCenteredCubic\n",
    "from ase.calculators.lj import LennardJones\n"
   ]
  },
  {
   "cell_type": "code",
   "execution_count": 2,
   "metadata": {
    "collapsed": true
   },
   "outputs": [],
   "source": [
    "#start the sigma from stress from ase\n",
    "def get_sigma(stress):\n",
    "#stress= atoms.get_stress()# pressumable in eV/A^3\n",
    "    sigma= np.array([[stress[0],stress[5],stress[4]], [stress[5], stress[1],stress[3]],\\\n",
    "                     [stress[4],stress[3],stress[2]]])\n",
    "    return sigma"
   ]
  },
  {
   "cell_type": "code",
   "execution_count": 3,
   "metadata": {
    "collapsed": true
   },
   "outputs": [],
   "source": [
    "#starting ase potential\n",
    "#3.446 angstrom\n",
    "#8.5 angstrom\n",
    "# 0.010768 eV\n",
    "LJ= LennardJones(epsilon= 0.010768, sigma= 3.446, rc= 8.5)\n",
    "\n",
    "#start structure from ase\n",
    "atoms = FaceCenteredCubic(size=(3,3,3), symbol=\"Ar\", pbc=True)\n",
    "atoms.set_calculator(LJ)"
   ]
  },
  {
   "cell_type": "code",
   "execution_count": 4,
   "metadata": {
    "collapsed": true
   },
   "outputs": [],
   "source": [
    "# import parameters for the md, from the jn_test.md file \n",
    "Qmass, bmass, P_ext, dt, correc_steps, md_steps, abinit_steps= ac.get_md_parameters('jn_test.md')\n",
    "\n",
    "numb_bond_cons, bool_bond_cons, numb_angl_cons, bool_angl_cons, \\\n",
    "numb_cell_para_cons, bool_cell_para_cons, numb_cell_angl_cons, bool_cell_angl_cons,\\\n",
    "volu_cons , bool_volu, numb_atom_fix_cons, bool_atom_fix_cons, bond_const, angl_const, cell_para_const,\\\n",
    "cell_angl_const, atom_fix_const, bond_valu, angl_valu, cell_para_valu,\\\n",
    "cell_angl_valu, volu_valu, atom_fix_valu, atom_fix_cord= ac.get_md_constrains('jn_test.md')\n",
    "\n",
    "md_total_steps= md_steps*abinit_steps\n",
    "\n",
    "temp_arra= ac.temp_data_reader('jn_test.md', md_total_steps)\n",
    "\n",
    "#paremeters to start the thermostat degree of freedom (don't touch)\n",
    "s_t=1.0 #thermostat degree of freedom\n",
    "s_t_dot= 0.0#time derivative of thermostat degree of freedom\n",
    "\n"
   ]
  },
  {
   "cell_type": "code",
   "execution_count": 5,
   "metadata": {
    "collapsed": false
   },
   "outputs": [],
   "source": [
    "#this part is equivalent to ac.get_nat_mass_latvec_in_strten_in\n",
    "#in the mdwc_ script\n",
    "mass=   atoms.get_masses()#amu\n",
    "h_t= atoms.cell#lattice vectors\n",
    "nat= len(mass) #number of atoms in the system\n",
    "stress= atoms.get_stress()\n",
    "strten_in= get_sigma(stress)"
   ]
  },
  {
   "cell_type": "code",
   "execution_count": 6,
   "metadata": {
    "collapsed": false
   },
   "outputs": [],
   "source": [
    "#this part is equivalent to ac.get_xred_fcart\n",
    "#in the mdwc_ script\n",
    "r_t= atoms.get_positions().T\n",
    "x_t= np.dot(np.linalg.inv(h_t),r_t) # reduced coordinates\n",
    "f_t= atoms.get_forces().T"
   ]
  },
  {
   "cell_type": "code",
   "execution_count": 7,
   "metadata": {
    "collapsed": false
   },
   "outputs": [],
   "source": [
    "#starting velocities\n",
    "temp= temp_arra[0]\n",
    "v_t= md_ft.npt_md_suit.init_vel_atoms(mass, temp, len(mass)) #atoms velociites\n",
    "h_t_dot= md_ft.npt_md_suit.init_vel_lattice(bmass, temp, h_t)\n",
    "x_t_dot= md_ft.npt_md_suit.get_x_dot(h_t, v_t, nat)"
   ]
  },
  {
   "cell_type": "code",
   "execution_count": 8,
   "metadata": {
    "collapsed": false
   },
   "outputs": [],
   "source": [
    "#start of the molecular dynamics\n",
    "for i_abinit_step in range(abinit_steps):\n",
    "#abinit_steps is the number of steps in which the forces and energy are\n",
    "#going to be calculated.\n",
    "    \n",
    "    temp= temp_arra[i_abinit_step*md_steps]\n",
    "    \n",
    "    s_out, s_out_dot, x_out, v_out= md_ft.npt_md_suit.md_nvt_constrains(h_t,x_t, \\\n",
    "                                                        f_t,v_t,\\\n",
    "                                                        bond_valu, angl_valu,\\\n",
    "                                                        atom_fix_valu,atom_fix_cord,mass,\\\n",
    "                                                        Qmass, dt, temp, s_t, s_t_dot,\\\n",
    "                                                        bond_const,angl_const,\\\n",
    "                                                        atom_fix_const,correc_steps, md_steps,\\\n",
    "                                                        bool_bond_cons,bool_angl_cons,\\\n",
    "                                                        bool_atom_fix_cons, nat,\\\n",
    "                                                        numb_angl_cons, numb_bond_cons,numb_atom_fix_cons)\n",
    "    x_t= x_out\n",
    "    v_t= v_out\n",
    "    s_t= s_out\n",
    "    s_t_dot=s_out_dot    \n",
    "    \n",
    "    #update the information for ase energy and forces calculations\n",
    "    r_t= np.dot(h_t,x_t)\n",
    "    atoms.set_positions(r_t.T)\n",
    "    f_t= atoms.get_forces().T"
   ]
  },
  {
   "cell_type": "code",
   "execution_count": null,
   "metadata": {
    "collapsed": true
   },
   "outputs": [],
   "source": []
  }
 ],
 "metadata": {
  "kernelspec": {
   "display_name": "Python 2",
   "language": "python",
   "name": "python2"
  },
  "language_info": {
   "codemirror_mode": {
    "name": "ipython",
    "version": 2
   },
   "file_extension": ".py",
   "mimetype": "text/x-python",
   "name": "python",
   "nbconvert_exporter": "python",
   "pygments_lexer": "ipython2",
   "version": "2.7.13"
  }
 },
 "nbformat": 4,
 "nbformat_minor": 2
}
